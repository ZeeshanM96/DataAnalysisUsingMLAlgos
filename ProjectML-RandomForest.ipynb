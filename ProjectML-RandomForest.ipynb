{
 "cells": [
  {
   "cell_type": "code",
   "execution_count": 1,
   "id": "28d65b63",
   "metadata": {},
   "outputs": [],
   "source": [
    "#importing the modules\n",
    "from sklearn.datasets import make_classification\n",
    "from matplotlib import pyplot as plt\n",
    "from sklearn.linear_model import LogisticRegression\n",
    "from sklearn.model_selection import train_test_split\n",
    "from sklearn.metrics import confusion_matrix\n",
    "import pandas as pd\n",
    "import numpy as np\n",
    "import seaborn as sns"
   ]
  },
  {
   "cell_type": "code",
   "execution_count": 2,
   "id": "f16687b9",
   "metadata": {},
   "outputs": [],
   "source": [
    "#reading the dataset\n",
    "df = pd.read_csv(\"C:\\\\Users\\\\zeesh\\\\Desktop\\\\UniversityData\\\\Statistical-ML\\\\Project\\\\train.csv\")"
   ]
  },
  {
   "cell_type": "code",
   "execution_count": 3,
   "id": "dbb3300b",
   "metadata": {},
   "outputs": [
    {
     "data": {
      "text/html": [
       "<div>\n",
       "<style scoped>\n",
       "    .dataframe tbody tr th:only-of-type {\n",
       "        vertical-align: middle;\n",
       "    }\n",
       "\n",
       "    .dataframe tbody tr th {\n",
       "        vertical-align: top;\n",
       "    }\n",
       "\n",
       "    .dataframe thead th {\n",
       "        text-align: right;\n",
       "    }\n",
       "</style>\n",
       "<table border=\"1\" class=\"dataframe\">\n",
       "  <thead>\n",
       "    <tr style=\"text-align: right;\">\n",
       "      <th></th>\n",
       "      <th>Total words</th>\n",
       "      <th>Number words male</th>\n",
       "      <th>Number words female</th>\n",
       "      <th>Number of words lead</th>\n",
       "      <th>Difference in words lead and co-lead</th>\n",
       "      <th>Number of male actors</th>\n",
       "      <th>Year</th>\n",
       "      <th>Number of female actors</th>\n",
       "      <th>Gross</th>\n",
       "      <th>Mean Age Male</th>\n",
       "      <th>Mean Age Female</th>\n",
       "      <th>Age Lead</th>\n",
       "      <th>Age Co-Lead</th>\n",
       "      <th>Lead</th>\n",
       "    </tr>\n",
       "  </thead>\n",
       "  <tbody>\n",
       "    <tr>\n",
       "      <th>0</th>\n",
       "      <td>6394</td>\n",
       "      <td>2631</td>\n",
       "      <td>1512</td>\n",
       "      <td>2251</td>\n",
       "      <td>343</td>\n",
       "      <td>2</td>\n",
       "      <td>1995</td>\n",
       "      <td>5</td>\n",
       "      <td>142</td>\n",
       "      <td>51.500000</td>\n",
       "      <td>42.333333</td>\n",
       "      <td>46</td>\n",
       "      <td>65</td>\n",
       "      <td>Female</td>\n",
       "    </tr>\n",
       "    <tr>\n",
       "      <th>1</th>\n",
       "      <td>8780</td>\n",
       "      <td>5236</td>\n",
       "      <td>1524</td>\n",
       "      <td>2020</td>\n",
       "      <td>1219</td>\n",
       "      <td>9</td>\n",
       "      <td>2001</td>\n",
       "      <td>4</td>\n",
       "      <td>37</td>\n",
       "      <td>39.125000</td>\n",
       "      <td>29.333333</td>\n",
       "      <td>58</td>\n",
       "      <td>34</td>\n",
       "      <td>Male</td>\n",
       "    </tr>\n",
       "    <tr>\n",
       "      <th>2</th>\n",
       "      <td>4176</td>\n",
       "      <td>3079</td>\n",
       "      <td>155</td>\n",
       "      <td>942</td>\n",
       "      <td>787</td>\n",
       "      <td>7</td>\n",
       "      <td>1968</td>\n",
       "      <td>1</td>\n",
       "      <td>376</td>\n",
       "      <td>42.500000</td>\n",
       "      <td>37.000000</td>\n",
       "      <td>46</td>\n",
       "      <td>37</td>\n",
       "      <td>Male</td>\n",
       "    </tr>\n",
       "    <tr>\n",
       "      <th>3</th>\n",
       "      <td>9855</td>\n",
       "      <td>5342</td>\n",
       "      <td>1073</td>\n",
       "      <td>3440</td>\n",
       "      <td>2623</td>\n",
       "      <td>12</td>\n",
       "      <td>2002</td>\n",
       "      <td>2</td>\n",
       "      <td>19</td>\n",
       "      <td>35.222222</td>\n",
       "      <td>21.500000</td>\n",
       "      <td>33</td>\n",
       "      <td>23</td>\n",
       "      <td>Male</td>\n",
       "    </tr>\n",
       "    <tr>\n",
       "      <th>4</th>\n",
       "      <td>7688</td>\n",
       "      <td>2536</td>\n",
       "      <td>1317</td>\n",
       "      <td>3835</td>\n",
       "      <td>3149</td>\n",
       "      <td>8</td>\n",
       "      <td>1988</td>\n",
       "      <td>4</td>\n",
       "      <td>40</td>\n",
       "      <td>45.250000</td>\n",
       "      <td>45.000000</td>\n",
       "      <td>36</td>\n",
       "      <td>39</td>\n",
       "      <td>Male</td>\n",
       "    </tr>\n",
       "  </tbody>\n",
       "</table>\n",
       "</div>"
      ],
      "text/plain": [
       "   Total words  Number words male  Number words female  Number of words lead  \\\n",
       "0         6394               2631                 1512                  2251   \n",
       "1         8780               5236                 1524                  2020   \n",
       "2         4176               3079                  155                   942   \n",
       "3         9855               5342                 1073                  3440   \n",
       "4         7688               2536                 1317                  3835   \n",
       "\n",
       "   Difference in words lead and co-lead  Number of male actors  Year  \\\n",
       "0                                   343                      2  1995   \n",
       "1                                  1219                      9  2001   \n",
       "2                                   787                      7  1968   \n",
       "3                                  2623                     12  2002   \n",
       "4                                  3149                      8  1988   \n",
       "\n",
       "   Number of female actors  Gross  Mean Age Male  Mean Age Female  Age Lead  \\\n",
       "0                        5    142      51.500000        42.333333        46   \n",
       "1                        4     37      39.125000        29.333333        58   \n",
       "2                        1    376      42.500000        37.000000        46   \n",
       "3                        2     19      35.222222        21.500000        33   \n",
       "4                        4     40      45.250000        45.000000        36   \n",
       "\n",
       "   Age Co-Lead    Lead  \n",
       "0           65  Female  \n",
       "1           34    Male  \n",
       "2           37    Male  \n",
       "3           23    Male  \n",
       "4           39    Male  "
      ]
     },
     "execution_count": 3,
     "metadata": {},
     "output_type": "execute_result"
    }
   ],
   "source": [
    "#step 3 : Viewing the data\n",
    "df.head()"
   ]
  },
  {
   "cell_type": "markdown",
   "id": "7877a969",
   "metadata": {},
   "source": [
    "# <h2>Explanation of data <h2>"
   ]
  },
  {
   "cell_type": "markdown",
   "id": "f15421d9",
   "metadata": {},
   "source": [
    "Year : That the film was released.<br> \n",
    "Number of female actors : With major speaking roles.<br> \n",
    "Number of male actors : With major speaking roles.<br> \n",
    "Gross : Profits made by film.<br> \n",
    "Total words : Total number of words spoken in the film.<br> \n",
    "Number of words male : Number of words spoken by all other male actors in the film (excluding lead if lead is male)<br> \n",
    "Number of words female : Number of words spoken by all other female actors in the film (excluding lead if lead is female)<br> \n",
    "Number of words lead : Number of words spoken by lead.<br> \n",
    "Difference in words lead and co-lead : Difference in number of words by lead and the actor of opposite gender who speaks most.<br> \n",
    "Lead Age : Age of lead actor.<br> \n",
    "Co-lead Age : Age of co-lead actor.<br> \n",
    "Mean Age Male : Mean age of all male characters.<br> \n",
    "Mean Age Female : Mean age of all female characters.<br> "
   ]
  },
  {
   "cell_type": "markdown",
   "id": "ecf37be0",
   "metadata": {},
   "source": [
    "# Data Analysis"
   ]
  },
  {
   "cell_type": "markdown",
   "id": "bfee5e27",
   "metadata": {},
   "source": [
    "### Visually Analysisng the data using Seaborn\n",
    "#### Check how many MALE and Female are there using countplot method"
   ]
  },
  {
   "cell_type": "code",
   "execution_count": 4,
   "id": "53afd71b",
   "metadata": {},
   "outputs": [
    {
     "data": {
      "text/plain": [
       "<AxesSubplot:xlabel='Lead', ylabel='count'>"
      ]
     },
     "execution_count": 4,
     "metadata": {},
     "output_type": "execute_result"
    },
    {
     "data": {
      "image/png": "[encoded data removed]",
      "text/plain": [
       "<Figure size 432x288 with 1 Axes>"
      ]
     },
     "metadata": {
      "needs_background": "light"
     },
     "output_type": "display_data"
    }
   ],
   "source": [
    "sns.countplot(x='Lead', data = df)"
   ]
  },
  {
   "cell_type": "markdown",
   "id": "ede058cf",
   "metadata": {},
   "source": [
    "#### Checking for null values in the dataset"
   ]
  },
  {
   "cell_type": "code",
   "execution_count": 5,
   "id": "1b1c4e65",
   "metadata": {},
   "outputs": [
    {
     "data": {
      "text/plain": [
       "Total words                             0\n",
       "Number words male                       0\n",
       "Number words female                     0\n",
       "Number of words lead                    0\n",
       "Difference in words lead and co-lead    0\n",
       "Number of male actors                   0\n",
       "Year                                    0\n",
       "Number of female actors                 0\n",
       "Gross                                   0\n",
       "Mean Age Male                           0\n",
       "Mean Age Female                         0\n",
       "Age Lead                                0\n",
       "Age Co-Lead                             0\n",
       "Lead                                    0\n",
       "dtype: int64"
      ]
     },
     "execution_count": 5,
     "metadata": {},
     "output_type": "execute_result"
    }
   ],
   "source": [
    "df.isna().sum()"
   ]
  },
  {
   "cell_type": "markdown",
   "id": "16da8799",
   "metadata": {},
   "source": [
    "##### Visualizing the null values in the dataset"
   ]
  },
  {
   "cell_type": "code",
   "execution_count": 6,
   "id": "0a10f25a",
   "metadata": {},
   "outputs": [
    {
     "data": {
      "text/plain": [
       "<AxesSubplot:>"
      ]
     },
     "execution_count": 6,
     "metadata": {},
     "output_type": "execute_result"
    },
    {
     "data": {
      "image/png": "[encoded data removed]",
      "text/plain": [
       "<Figure size 432x288 with 2 Axes>"
      ]
     },
     "metadata": {
      "needs_background": "light"
     },
     "output_type": "display_data"
    }
   ],
   "source": [
    "sns.heatmap(df.isnull())"
   ]
  },
  {
   "cell_type": "code",
   "execution_count": 7,
   "id": "c46fe961",
   "metadata": {},
   "outputs": [],
   "source": [
    " #data of age of leads where Lead is Male\n",
    "df_Male = df.where(df['Lead'] == 'Male')\n",
    "df_M=df_Male.dropna(how='all')\n",
    "\n",
    "#data of age of leads where Lead is Female\n",
    "df_Female = df.where(df['Lead'] == 'Female')\n",
    "df_F=df_Female.dropna(how='all')"
   ]
  },
  {
   "cell_type": "code",
   "execution_count": 8,
   "id": "a204a2fa",
   "metadata": {},
   "outputs": [
    {
     "data": {
      "text/plain": [
       "<seaborn.axisgrid.FacetGrid at 0x2314fc67d60>"
      ]
     },
     "execution_count": 8,
     "metadata": {},
     "output_type": "execute_result"
    },
    {
     "data": {
      "image/png": "[encoded data removed]",
      "text/plain": [
       "<Figure size 360x360 with 1 Axes>"
      ]
     },
     "metadata": {
      "needs_background": "light"
     },
     "output_type": "display_data"
    }
   ],
   "source": [
    "#find the distribution of age where Lead is Male\n",
    "sns.displot(x='Age Lead', data= df_M)"
   ]
  },
  {
   "cell_type": "code",
   "execution_count": 9,
   "id": "6b7d5aab",
   "metadata": {},
   "outputs": [
    {
     "data": {
      "text/plain": [
       "<seaborn.axisgrid.FacetGrid at 0x2314fe4d040>"
      ]
     },
     "execution_count": 9,
     "metadata": {},
     "output_type": "execute_result"
    },
    {
     "data": {
      "image/png": "[encoded data removed]",
      "text/plain": [
       "<Figure size 360x360 with 1 Axes>"
      ]
     },
     "metadata": {
      "needs_background": "light"
     },
     "output_type": "display_data"
    }
   ],
   "source": [
    "#find the distribution of age where Lead is Female\n",
    "sns.displot(x='Age Lead', data= df_F)"
   ]
  },
  {
   "cell_type": "markdown",
   "id": "8fafcea1",
   "metadata": {},
   "source": [
    "# Preparing data for model"
   ]
  },
  {
   "cell_type": "code",
   "execution_count": 10,
   "id": "e343da26",
   "metadata": {},
   "outputs": [
    {
     "data": {
      "text/html": [
       "<div>\n",
       "<style scoped>\n",
       "    .dataframe tbody tr th:only-of-type {\n",
       "        vertical-align: middle;\n",
       "    }\n",
       "\n",
       "    .dataframe tbody tr th {\n",
       "        vertical-align: top;\n",
       "    }\n",
       "\n",
       "    .dataframe thead th {\n",
       "        text-align: right;\n",
       "    }\n",
       "</style>\n",
       "<table border=\"1\" class=\"dataframe\">\n",
       "  <thead>\n",
       "    <tr style=\"text-align: right;\">\n",
       "      <th></th>\n",
       "      <th>Female</th>\n",
       "      <th>Male</th>\n",
       "    </tr>\n",
       "  </thead>\n",
       "  <tbody>\n",
       "    <tr>\n",
       "      <th>0</th>\n",
       "      <td>1</td>\n",
       "      <td>0</td>\n",
       "    </tr>\n",
       "    <tr>\n",
       "      <th>1</th>\n",
       "      <td>0</td>\n",
       "      <td>1</td>\n",
       "    </tr>\n",
       "    <tr>\n",
       "      <th>2</th>\n",
       "      <td>0</td>\n",
       "      <td>1</td>\n",
       "    </tr>\n",
       "    <tr>\n",
       "      <th>3</th>\n",
       "      <td>0</td>\n",
       "      <td>1</td>\n",
       "    </tr>\n",
       "    <tr>\n",
       "      <th>4</th>\n",
       "      <td>0</td>\n",
       "      <td>1</td>\n",
       "    </tr>\n",
       "    <tr>\n",
       "      <th>...</th>\n",
       "      <td>...</td>\n",
       "      <td>...</td>\n",
       "    </tr>\n",
       "    <tr>\n",
       "      <th>1034</th>\n",
       "      <td>0</td>\n",
       "      <td>1</td>\n",
       "    </tr>\n",
       "    <tr>\n",
       "      <th>1035</th>\n",
       "      <td>1</td>\n",
       "      <td>0</td>\n",
       "    </tr>\n",
       "    <tr>\n",
       "      <th>1036</th>\n",
       "      <td>0</td>\n",
       "      <td>1</td>\n",
       "    </tr>\n",
       "    <tr>\n",
       "      <th>1037</th>\n",
       "      <td>1</td>\n",
       "      <td>0</td>\n",
       "    </tr>\n",
       "    <tr>\n",
       "      <th>1038</th>\n",
       "      <td>0</td>\n",
       "      <td>1</td>\n",
       "    </tr>\n",
       "  </tbody>\n",
       "</table>\n",
       "<p>1039 rows × 2 columns</p>\n",
       "</div>"
      ],
      "text/plain": [
       "      Female  Male\n",
       "0          1     0\n",
       "1          0     1\n",
       "2          0     1\n",
       "3          0     1\n",
       "4          0     1\n",
       "...      ...   ...\n",
       "1034       0     1\n",
       "1035       1     0\n",
       "1036       0     1\n",
       "1037       1     0\n",
       "1038       0     1\n",
       "\n",
       "[1039 rows x 2 columns]"
      ]
     },
     "execution_count": 10,
     "metadata": {},
     "output_type": "execute_result"
    }
   ],
   "source": [
    "#Convert Lead gender coloumn to Numerical values\n",
    "pd.get_dummies(df['Lead'])"
   ]
  },
  {
   "cell_type": "code",
   "execution_count": 11,
   "id": "f0348b88",
   "metadata": {},
   "outputs": [],
   "source": [
    "Gender_B = pd.get_dummies(df['Lead'], drop_first=True)"
   ]
  },
  {
   "cell_type": "code",
   "execution_count": 12,
   "id": "cbd29fac",
   "metadata": {},
   "outputs": [],
   "source": [
    "df['Gender_B'] = Gender_B"
   ]
  },
  {
   "cell_type": "code",
   "execution_count": 13,
   "id": "3be21309",
   "metadata": {},
   "outputs": [
    {
     "data": {
      "text/html": [
       "<div>\n",
       "<style scoped>\n",
       "    .dataframe tbody tr th:only-of-type {\n",
       "        vertical-align: middle;\n",
       "    }\n",
       "\n",
       "    .dataframe tbody tr th {\n",
       "        vertical-align: top;\n",
       "    }\n",
       "\n",
       "    .dataframe thead th {\n",
       "        text-align: right;\n",
       "    }\n",
       "</style>\n",
       "<table border=\"1\" class=\"dataframe\">\n",
       "  <thead>\n",
       "    <tr style=\"text-align: right;\">\n",
       "      <th></th>\n",
       "      <th>Total words</th>\n",
       "      <th>Number words male</th>\n",
       "      <th>Number words female</th>\n",
       "      <th>Number of words lead</th>\n",
       "      <th>Difference in words lead and co-lead</th>\n",
       "      <th>Number of male actors</th>\n",
       "      <th>Year</th>\n",
       "      <th>Number of female actors</th>\n",
       "      <th>Gross</th>\n",
       "      <th>Mean Age Male</th>\n",
       "      <th>Mean Age Female</th>\n",
       "      <th>Age Lead</th>\n",
       "      <th>Age Co-Lead</th>\n",
       "      <th>Lead</th>\n",
       "      <th>Gender_B</th>\n",
       "    </tr>\n",
       "  </thead>\n",
       "  <tbody>\n",
       "    <tr>\n",
       "      <th>0</th>\n",
       "      <td>6394</td>\n",
       "      <td>2631</td>\n",
       "      <td>1512</td>\n",
       "      <td>2251</td>\n",
       "      <td>343</td>\n",
       "      <td>2</td>\n",
       "      <td>1995</td>\n",
       "      <td>5</td>\n",
       "      <td>142</td>\n",
       "      <td>51.500000</td>\n",
       "      <td>42.333333</td>\n",
       "      <td>46</td>\n",
       "      <td>65</td>\n",
       "      <td>Female</td>\n",
       "      <td>0</td>\n",
       "    </tr>\n",
       "    <tr>\n",
       "      <th>1</th>\n",
       "      <td>8780</td>\n",
       "      <td>5236</td>\n",
       "      <td>1524</td>\n",
       "      <td>2020</td>\n",
       "      <td>1219</td>\n",
       "      <td>9</td>\n",
       "      <td>2001</td>\n",
       "      <td>4</td>\n",
       "      <td>37</td>\n",
       "      <td>39.125000</td>\n",
       "      <td>29.333333</td>\n",
       "      <td>58</td>\n",
       "      <td>34</td>\n",
       "      <td>Male</td>\n",
       "      <td>1</td>\n",
       "    </tr>\n",
       "    <tr>\n",
       "      <th>2</th>\n",
       "      <td>4176</td>\n",
       "      <td>3079</td>\n",
       "      <td>155</td>\n",
       "      <td>942</td>\n",
       "      <td>787</td>\n",
       "      <td>7</td>\n",
       "      <td>1968</td>\n",
       "      <td>1</td>\n",
       "      <td>376</td>\n",
       "      <td>42.500000</td>\n",
       "      <td>37.000000</td>\n",
       "      <td>46</td>\n",
       "      <td>37</td>\n",
       "      <td>Male</td>\n",
       "      <td>1</td>\n",
       "    </tr>\n",
       "    <tr>\n",
       "      <th>3</th>\n",
       "      <td>9855</td>\n",
       "      <td>5342</td>\n",
       "      <td>1073</td>\n",
       "      <td>3440</td>\n",
       "      <td>2623</td>\n",
       "      <td>12</td>\n",
       "      <td>2002</td>\n",
       "      <td>2</td>\n",
       "      <td>19</td>\n",
       "      <td>35.222222</td>\n",
       "      <td>21.500000</td>\n",
       "      <td>33</td>\n",
       "      <td>23</td>\n",
       "      <td>Male</td>\n",
       "      <td>1</td>\n",
       "    </tr>\n",
       "    <tr>\n",
       "      <th>4</th>\n",
       "      <td>7688</td>\n",
       "      <td>2536</td>\n",
       "      <td>1317</td>\n",
       "      <td>3835</td>\n",
       "      <td>3149</td>\n",
       "      <td>8</td>\n",
       "      <td>1988</td>\n",
       "      <td>4</td>\n",
       "      <td>40</td>\n",
       "      <td>45.250000</td>\n",
       "      <td>45.000000</td>\n",
       "      <td>36</td>\n",
       "      <td>39</td>\n",
       "      <td>Male</td>\n",
       "      <td>1</td>\n",
       "    </tr>\n",
       "  </tbody>\n",
       "</table>\n",
       "</div>"
      ],
      "text/plain": [
       "   Total words  Number words male  Number words female  Number of words lead  \\\n",
       "0         6394               2631                 1512                  2251   \n",
       "1         8780               5236                 1524                  2020   \n",
       "2         4176               3079                  155                   942   \n",
       "3         9855               5342                 1073                  3440   \n",
       "4         7688               2536                 1317                  3835   \n",
       "\n",
       "   Difference in words lead and co-lead  Number of male actors  Year  \\\n",
       "0                                   343                      2  1995   \n",
       "1                                  1219                      9  2001   \n",
       "2                                   787                      7  1968   \n",
       "3                                  2623                     12  2002   \n",
       "4                                  3149                      8  1988   \n",
       "\n",
       "   Number of female actors  Gross  Mean Age Male  Mean Age Female  Age Lead  \\\n",
       "0                        5    142      51.500000        42.333333        46   \n",
       "1                        4     37      39.125000        29.333333        58   \n",
       "2                        1    376      42.500000        37.000000        46   \n",
       "3                        2     19      35.222222        21.500000        33   \n",
       "4                        4     40      45.250000        45.000000        36   \n",
       "\n",
       "   Age Co-Lead    Lead  Gender_B  \n",
       "0           65  Female         0  \n",
       "1           34    Male         1  \n",
       "2           37    Male         1  \n",
       "3           23    Male         1  \n",
       "4           39    Male         1  "
      ]
     },
     "execution_count": 13,
     "metadata": {},
     "output_type": "execute_result"
    }
   ],
   "source": [
    "df.head()"
   ]
  },
  {
   "cell_type": "code",
   "execution_count": 14,
   "id": "e31e3e68",
   "metadata": {},
   "outputs": [],
   "source": [
    "# drop column which are not required for the model\n",
    "df.drop(['Year','Gross','Age Co-Lead'],axis=1,inplace=True)"
   ]
  },
  {
   "cell_type": "code",
   "execution_count": 15,
   "id": "c4e8a136",
   "metadata": {},
   "outputs": [
    {
     "data": {
      "text/html": [
       "<div>\n",
       "<style scoped>\n",
       "    .dataframe tbody tr th:only-of-type {\n",
       "        vertical-align: middle;\n",
       "    }\n",
       "\n",
       "    .dataframe tbody tr th {\n",
       "        vertical-align: top;\n",
       "    }\n",
       "\n",
       "    .dataframe thead th {\n",
       "        text-align: right;\n",
       "    }\n",
       "</style>\n",
       "<table border=\"1\" class=\"dataframe\">\n",
       "  <thead>\n",
       "    <tr style=\"text-align: right;\">\n",
       "      <th></th>\n",
       "      <th>Total words</th>\n",
       "      <th>Number words male</th>\n",
       "      <th>Number words female</th>\n",
       "      <th>Number of words lead</th>\n",
       "      <th>Difference in words lead and co-lead</th>\n",
       "      <th>Number of male actors</th>\n",
       "      <th>Number of female actors</th>\n",
       "      <th>Mean Age Male</th>\n",
       "      <th>Mean Age Female</th>\n",
       "      <th>Age Lead</th>\n",
       "      <th>Lead</th>\n",
       "      <th>Gender_B</th>\n",
       "    </tr>\n",
       "  </thead>\n",
       "  <tbody>\n",
       "    <tr>\n",
       "      <th>0</th>\n",
       "      <td>6394</td>\n",
       "      <td>2631</td>\n",
       "      <td>1512</td>\n",
       "      <td>2251</td>\n",
       "      <td>343</td>\n",
       "      <td>2</td>\n",
       "      <td>5</td>\n",
       "      <td>51.500000</td>\n",
       "      <td>42.333333</td>\n",
       "      <td>46</td>\n",
       "      <td>Female</td>\n",
       "      <td>0</td>\n",
       "    </tr>\n",
       "    <tr>\n",
       "      <th>1</th>\n",
       "      <td>8780</td>\n",
       "      <td>5236</td>\n",
       "      <td>1524</td>\n",
       "      <td>2020</td>\n",
       "      <td>1219</td>\n",
       "      <td>9</td>\n",
       "      <td>4</td>\n",
       "      <td>39.125000</td>\n",
       "      <td>29.333333</td>\n",
       "      <td>58</td>\n",
       "      <td>Male</td>\n",
       "      <td>1</td>\n",
       "    </tr>\n",
       "    <tr>\n",
       "      <th>2</th>\n",
       "      <td>4176</td>\n",
       "      <td>3079</td>\n",
       "      <td>155</td>\n",
       "      <td>942</td>\n",
       "      <td>787</td>\n",
       "      <td>7</td>\n",
       "      <td>1</td>\n",
       "      <td>42.500000</td>\n",
       "      <td>37.000000</td>\n",
       "      <td>46</td>\n",
       "      <td>Male</td>\n",
       "      <td>1</td>\n",
       "    </tr>\n",
       "    <tr>\n",
       "      <th>3</th>\n",
       "      <td>9855</td>\n",
       "      <td>5342</td>\n",
       "      <td>1073</td>\n",
       "      <td>3440</td>\n",
       "      <td>2623</td>\n",
       "      <td>12</td>\n",
       "      <td>2</td>\n",
       "      <td>35.222222</td>\n",
       "      <td>21.500000</td>\n",
       "      <td>33</td>\n",
       "      <td>Male</td>\n",
       "      <td>1</td>\n",
       "    </tr>\n",
       "    <tr>\n",
       "      <th>4</th>\n",
       "      <td>7688</td>\n",
       "      <td>2536</td>\n",
       "      <td>1317</td>\n",
       "      <td>3835</td>\n",
       "      <td>3149</td>\n",
       "      <td>8</td>\n",
       "      <td>4</td>\n",
       "      <td>45.250000</td>\n",
       "      <td>45.000000</td>\n",
       "      <td>36</td>\n",
       "      <td>Male</td>\n",
       "      <td>1</td>\n",
       "    </tr>\n",
       "  </tbody>\n",
       "</table>\n",
       "</div>"
      ],
      "text/plain": [
       "   Total words  Number words male  Number words female  Number of words lead  \\\n",
       "0         6394               2631                 1512                  2251   \n",
       "1         8780               5236                 1524                  2020   \n",
       "2         4176               3079                  155                   942   \n",
       "3         9855               5342                 1073                  3440   \n",
       "4         7688               2536                 1317                  3835   \n",
       "\n",
       "   Difference in words lead and co-lead  Number of male actors  \\\n",
       "0                                   343                      2   \n",
       "1                                  1219                      9   \n",
       "2                                   787                      7   \n",
       "3                                  2623                     12   \n",
       "4                                  3149                      8   \n",
       "\n",
       "   Number of female actors  Mean Age Male  Mean Age Female  Age Lead    Lead  \\\n",
       "0                        5      51.500000        42.333333        46  Female   \n",
       "1                        4      39.125000        29.333333        58    Male   \n",
       "2                        1      42.500000        37.000000        46    Male   \n",
       "3                        2      35.222222        21.500000        33    Male   \n",
       "4                        4      45.250000        45.000000        36    Male   \n",
       "\n",
       "   Gender_B  \n",
       "0         0  \n",
       "1         1  \n",
       "2         1  \n",
       "3         1  \n",
       "4         1  "
      ]
     },
     "execution_count": 15,
     "metadata": {},
     "output_type": "execute_result"
    }
   ],
   "source": [
    "df.head()"
   ]
  },
  {
   "cell_type": "code",
   "execution_count": 16,
   "id": "e910b2e0",
   "metadata": {},
   "outputs": [],
   "source": [
    "#Seperate dependent and dependent variable \n",
    "#dependent variable\n",
    "x = df[['Total words','Number words male','Number words female','Number of words lead','Difference in words lead and co-lead','Number of male actors','Number of female actors','Mean Age Male','Mean Age Female','Age Lead']]\n",
    "#dependent variable\n",
    "y = df['Gender_B']"
   ]
  },
  {
   "cell_type": "code",
   "execution_count": 17,
   "id": "32e84c09",
   "metadata": {},
   "outputs": [
    {
     "data": {
      "text/plain": [
       "0       0\n",
       "1       1\n",
       "2       1\n",
       "3       1\n",
       "4       1\n",
       "       ..\n",
       "1034    1\n",
       "1035    0\n",
       "1036    1\n",
       "1037    0\n",
       "1038    1\n",
       "Name: Gender_B, Length: 1039, dtype: uint8"
      ]
     },
     "execution_count": 17,
     "metadata": {},
     "output_type": "execute_result"
    }
   ],
   "source": [
    "y"
   ]
  },
  {
   "cell_type": "markdown",
   "id": "7f2fe113",
   "metadata": {},
   "source": [
    "# Data Modeling"
   ]
  },
  {
   "cell_type": "code",
   "execution_count": 18,
   "id": "019e3080",
   "metadata": {},
   "outputs": [],
   "source": [
    "from sklearn.model_selection import train_test_split"
   ]
  },
  {
   "cell_type": "code",
   "execution_count": 19,
   "id": "64f52865",
   "metadata": {},
   "outputs": [],
   "source": [
    "#train test split\n",
    "x_train, x_test, y_train, y_test =  train_test_split(x,y,test_size=0.33, random_state=5)"
   ]
  },
  {
   "cell_type": "code",
   "execution_count": 20,
   "id": "ad7710e3",
   "metadata": {},
   "outputs": [
    {
     "data": {
      "text/plain": [
       "RandomForestClassifier()"
      ]
     },
     "execution_count": 20,
     "metadata": {},
     "output_type": "execute_result"
    }
   ],
   "source": [
    "#import Random Forest\n",
    "from sklearn import ensemble\n",
    "rf_clf = ensemble.RandomForestClassifier(n_estimators = 100)\n",
    "rf_clf.fit(x_train,y_train)"
   ]
  },
  {
   "cell_type": "code",
   "execution_count": 21,
   "id": "78cd5c89",
   "metadata": {},
   "outputs": [
    {
     "name": "stdout",
     "output_type": "stream",
     "text": [
      "Train Accuracy = 1.000\n",
      "Test Accuracy = 0.808\n"
     ]
    }
   ],
   "source": [
    "#check accuracy\n",
    "print(f'Train Accuracy = {rf_clf.score(x_train, y_train):.3f}')\n",
    "print(f'Test Accuracy = {rf_clf.score(x_test, y_test):.3f}')"
   ]
  },
  {
   "cell_type": "code",
   "execution_count": 22,
   "id": "00008846",
   "metadata": {},
   "outputs": [],
   "source": [
    "#Predict Probabiltiy\n",
    "rf_prob = rf_clf.predict_proba(x_test)"
   ]
  },
  {
   "cell_type": "code",
   "execution_count": 23,
   "id": "2eeb11ed",
   "metadata": {},
   "outputs": [],
   "source": [
    "#Probabiltiy for +tive outcome is kept\n",
    "rf_prob = rf_clf.predict_proba(x_test)[:,1]"
   ]
  },
  {
   "cell_type": "code",
   "execution_count": 24,
   "id": "bae2c1ec",
   "metadata": {},
   "outputs": [],
   "source": [
    "# Complete AREA UNDER THE ROC CURVE values\n",
    "from sklearn.metrics import roc_curve, roc_auc_score\n",
    "rf_auc = roc_auc_score(y_test, rf_prob)\n"
   ]
  },
  {
   "cell_type": "code",
   "execution_count": 25,
   "id": "a0120e45",
   "metadata": {},
   "outputs": [
    {
     "name": "stdout",
     "output_type": "stream",
     "text": [
      "Random forest : AUROC = 0.864\n"
     ]
    }
   ],
   "source": [
    "#Display the AREA UNDER THE ROC CURVE score\n",
    "print(\"Random forest : AUROC = %.3f\" %(rf_auc))"
   ]
  },
  {
   "cell_type": "code",
   "execution_count": 26,
   "id": "f6c20f5f",
   "metadata": {},
   "outputs": [],
   "source": [
    "#Calculate AREA UNDER THE ROC CURVE score\n",
    "rf_fpr, rf_tpr, _ = roc_curve(y_test, rf_prob)"
   ]
  },
  {
   "cell_type": "code",
   "execution_count": 27,
   "id": "caea5810",
   "metadata": {
    "scrolled": true
   },
   "outputs": [
    {
     "data": {
      "image/png": "[encoded data removed]",
      "text/plain": [
       "<Figure size 1080x720 with 1 Axes>"
      ]
     },
     "metadata": {
      "needs_background": "light"
     },
     "output_type": "display_data"
    }
   ],
   "source": [
    "#plot the curve\n",
    "plt.figure(figsize = (15,10))\n",
    "plt.plot(rf_fpr, rf_tpr, linestyle = '--', label = 'Random forest (AUROC = %0.3f)' %rf_auc)\n",
    "\n",
    "plt.title('ROC Plot')\n",
    "plt.xlabel('False Positive Rate')\n",
    "plt.ylabel('True Positive Rate')\n",
    "\n",
    "plt.legend()\n",
    "plt.show()"
   ]
  },
  {
   "cell_type": "markdown",
   "id": "0e222d8f",
   "metadata": {},
   "source": [
    "### Tunning the method using hyperparameter "
   ]
  },
  {
   "cell_type": "code",
   "execution_count": 28,
   "id": "a64ad892",
   "metadata": {},
   "outputs": [],
   "source": [
    "# Number of trees in random forest\n",
    "n_estimators,  = [int(x) for x in np.linspace(start = 10, stop = 80, num = 10)]\n",
    "# Number of features to consider at every split\n",
    "max_features = ['auto', 'sqrt']\n",
    "# Maximum number of levels in tree\n",
    "max_depth = [2,4]\n",
    "# Minimum number of samples required to split a node\n",
    "min_samples_split = [2, 5]\n",
    "# Minimum number of samples required at each leaf node\n",
    "min_samples_leaf = [1, 2]\n",
    "# Method of selecting samples for training each tree\n",
    "bootstrap = [True, False]"
   ]
  },
  {
   "cell_type": "code",
   "execution_count": 29,
   "id": "037f1797",
   "metadata": {},
   "outputs": [],
   "source": [
    "# Create the param grid\n",
    "param_grid = {'n_estimators': n_estimators,\n",
    "               'max_features': max_features,\n",
    "               'max_depth': max_depth,\n",
    "               'min_samples_split': min_samples_split,\n",
    "               'min_samples_leaf': min_samples_leaf,\n",
    "               'bootstrap': bootstrap}"
   ]
  },
  {
   "cell_type": "code",
   "execution_count": 30,
   "id": "ce64a84e",
   "metadata": {},
   "outputs": [],
   "source": [
    "rf_Model = ensemble.RandomForestClassifier()"
   ]
  },
  {
   "cell_type": "code",
   "execution_count": 31,
   "id": "fec13356",
   "metadata": {},
   "outputs": [],
   "source": [
    "from sklearn.model_selection import GridSearchCV\n",
    "rf_Grid = GridSearchCV(estimator = rf_Model, param_grid = param_grid , cv = 3, verbose = 2, n_jobs = 4)"
   ]
  },
  {
   "cell_type": "code",
   "execution_count": 32,
   "id": "1854d145",
   "metadata": {},
   "outputs": [
    {
     "name": "stdout",
     "output_type": "stream",
     "text": [
      "Fitting 3 folds for each of 320 candidates, totalling 960 fits\n"
     ]
    },
    {
     "data": {
      "text/plain": [
       "GridSearchCV(cv=3, estimator=RandomForestClassifier(), n_jobs=4,\n",
       "             param_grid={'bootstrap': [True, False], 'max_depth': [2, 4],\n",
       "                         'max_features': ['auto', 'sqrt'],\n",
       "                         'min_samples_leaf': [1, 2],\n",
       "                         'min_samples_split': [2, 5],\n",
       "                         'n_estimators': [10, 17, 25, 33, 41, 48, 56, 64, 72,\n",
       "                                          80]},\n",
       "             verbose=2)"
      ]
     },
     "execution_count": 32,
     "metadata": {},
     "output_type": "execute_result"
    }
   ],
   "source": [
    "rf_Grid.fit(x_train,y_train)"
   ]
  },
  {
   "cell_type": "code",
   "execution_count": 33,
   "id": "a3c1931f",
   "metadata": {},
   "outputs": [
    {
     "name": "stdout",
     "output_type": "stream",
     "text": [
      "Train Accuracy = 0.848\n",
      "Test Accuracy = 0.790\n"
     ]
    }
   ],
   "source": [
    "rf_Grid.best_params_\n",
    "\n",
    "#check accuracy\n",
    "print(f'Train Accuracy = {rf_Grid.score(x_train, y_train):.3f}')\n",
    "print(f'Test Accuracy = {rf_Grid.score(x_test, y_test):.3f}')"
   ]
  },
  {
   "cell_type": "markdown",
   "id": "59e3736f",
   "metadata": {},
   "source": [
    "# K Fold Cross Validation"
   ]
  },
  {
   "cell_type": "code",
   "execution_count": 50,
   "id": "99b12ee4",
   "metadata": {},
   "outputs": [],
   "source": [
    "from sklearn.model_selection import KFold\n",
    "model = ensemble.RandomForestClassifier()\n",
    "kfold_validation = KFold(10)"
   ]
  },
  {
   "cell_type": "code",
   "execution_count": 51,
   "id": "106c5508",
   "metadata": {},
   "outputs": [
    {
     "name": "stdout",
     "output_type": "stream",
     "text": [
      "[0.89423077 0.92307692 0.84615385 0.84615385 0.86538462 0.84615385\n",
      " 0.84615385 0.79807692 0.82692308 0.84466019]\n",
      "0.8536967886482449\n"
     ]
    }
   ],
   "source": [
    "from sklearn.model_selection import cross_val_score\n",
    "result = cross_val_score(model, x, y, cv = kfold_validation)\n",
    "print(result)\n",
    "print(np.mean(result))"
   ]
  },
  {
   "cell_type": "markdown",
   "id": "25c5b84b",
   "metadata": {},
   "source": [
    "## Repeated Random Test-Train Splits"
   ]
  },
  {
   "cell_type": "code",
   "execution_count": 52,
   "id": "c2281ac7",
   "metadata": {},
   "outputs": [],
   "source": [
    "from sklearn.model_selection import ShuffleSplit\n",
    "model = ensemble.RandomForestClassifier()\n",
    "ssplit = ShuffleSplit(n_splits = 10, test_size = 0.30)\n",
    "results = cross_val_score(model, x, y, cv=ssplit)"
   ]
  },
  {
   "cell_type": "code",
   "execution_count": 53,
   "id": "91b5c624",
   "metadata": {},
   "outputs": [
    {
     "name": "stdout",
     "output_type": "stream",
     "text": [
      "Results = [0.79807692 0.83333333 0.86217949 0.83653846 0.875      0.84294872\n",
      " 0.82051282 0.84935897 0.81730769 0.81730769]\n"
     ]
    }
   ],
   "source": [
    "#results\n",
    "print(f'Results = {results}')"
   ]
  },
  {
   "cell_type": "code",
   "execution_count": 54,
   "id": "ca8e6765",
   "metadata": {},
   "outputs": [
    {
     "name": "stdout",
     "output_type": "stream",
     "text": [
      "Mean Result = 0.83526\n"
     ]
    }
   ],
   "source": [
    "#np.mean(results)\n",
    "print(f'Mean Result = {np.mean(results):.5f}')"
   ]
  },
  {
   "cell_type": "code",
   "execution_count": null,
   "id": "96baebe6",
   "metadata": {},
   "outputs": [],
   "source": []
  }
 ],
 "metadata": {
  "kernelspec": {
   "display_name": "Python 3 (ipykernel)",
   "language": "python",
   "name": "python3"
  },
  "language_info": {
   "codemirror_mode": {
    "name": "ipython",
    "version": 3
   },
   "file_extension": ".py",
   "mimetype": "text/x-python",
   "name": "python",
   "nbconvert_exporter": "python",
   "pygments_lexer": "ipython3",
   "version": "3.9.12"
  }
 },
 "nbformat": 4,
 "nbformat_minor": 5
}
